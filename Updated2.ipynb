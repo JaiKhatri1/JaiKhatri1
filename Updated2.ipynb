{
  "nbformat": 4,
  "nbformat_minor": 0,
  "metadata": {
    "colab": {
      "provenance": []
    },
    "kernelspec": {
      "name": "python3",
      "display_name": "Python 3"
    },
    "language_info": {
      "name": "python"
    }
  },
  "cells": [
    {
      "cell_type": "code",
      "execution_count": null,
      "metadata": {
        "id": "rTG-uBV5bCWp"
      },
      "outputs": [],
      "source": []
    },
    {
      "cell_type": "code",
      "source": [],
      "metadata": {
        "id": "YEcG27ujMV1y"
      },
      "execution_count": null,
      "outputs": []
    },
    {
      "cell_type": "code",
      "source": [],
      "metadata": {
        "id": "rwBlWNvtbRcz"
      },
      "execution_count": null,
      "outputs": []
    },
    {
      "cell_type": "code",
      "source": [
        "import numpy as np\n",
        "import matplotlib\n",
        "import matplotlib.pyplot as plt\n",
        "import seaborn as sns; sns.set()\n",
        "from sklearn.datasets import make_blobs\n",
        "import random as rand\n",
        "\n",
        "np.random.seed(3)\n",
        "\n",
        "%matplotlib inline\n",
        "\n",
        "plot_size   = 15\n",
        "plot_width  = 16\n",
        "plot_height = 8\n",
        "\n",
        "params = {'legend.fontsize': 'large',\n",
        "          'figure.figsize': (plot_width,plot_height),\n",
        "          'axes.labelsize': plot_size,\n",
        "          'axes.titlesize': plot_size,\n",
        "          'xtick.labelsize': plot_size*0.75,\n",
        "          'ytick.labelsize': plot_size*0.75,\n",
        "          'axes.titlepad': 25}\n",
        "plt.rcParams.update(params)\n",
        "plt.rcParams.update(params)"
      ],
      "metadata": {
        "id": "_IGJ3HUwqSHN"
      },
      "execution_count": 1,
      "outputs": []
    },
    {
      "cell_type": "code",
      "source": [
        "num_cities = 21\n",
        "num_clients = num_cities - 1\n",
        "num_vehicles = 4\n",
        "vehicle_payload = 7\n",
        "\n",
        "# Define pickup and time window constraints\n",
        "pickup_windows = [(0, 50), (10, 30), (20, 40), (5, 25), (15, 35), (25, 45), (35, 55), (45, 65), (40, 60), (30, 50),\n",
        "                  (20, 40), (10, 30), (0, 20), (10, 30), (20, 40), (30, 50), (40, 60), (50, 70), (60, 80), (70, 90)]\n",
        "time_windows = [(0, 100), (20, 60), (30, 70), (40, 80), (10, 50), (20, 60), (30, 70), (40, 80), (50, 90), (60, 100),\n",
        "                (70, 110), (80, 120), (90, 130), (100, 140), (110, 150), (120, 160), (130, 170), (140, 180), (150, 190),\n",
        "                (160, 200)]\n",
        "demands = [0, 3, 4, 2, 5, 3, 4, 2, 4, 3, 2, 5, 4, 3, 5, 4, 3, 2, 3, 5]"
      ],
      "metadata": {
        "id": "notHCoOyye_y"
      },
      "execution_count": 2,
      "outputs": []
    },
    {
      "cell_type": "code",
      "source": [
        "center_box = (100, 200)\n",
        "\n",
        "cities_coord, _ = make_blobs(n_samples=num_cities,\n",
        "                           centers=2,\n",
        "                           cluster_std=20,\n",
        "                           center_box=center_box,\n",
        "                           random_state = 2)\n",
        "\n",
        "all_names = [i for i in range(num_cities)]\n",
        "client_names = [i for i in range(1, num_cities)]\n",
        "all_coord_dict = {name: coord for name,coord in zip(all_names, cities_coord)}\n",
        "client_coord_dict = {name: coord for name,coord in zip(client_names, cities_coord[1:])}\n",
        "\n",
        "plt.scatter(cities_coord[1:, 0], cities_coord[1:, 1], s=plot_size*2, cmap='viridis');\n",
        "plt.scatter(cities_coord[0, 0], cities_coord[0, 1], s=plot_size*4, cmap='viridis');"
      ],
      "metadata": {
        "id": "ZiazyX2byhpa",
        "colab": {
          "base_uri": "https://localhost:8080/",
          "height": 750
        },
        "outputId": "0a3c2d3c-6c35-401d-e304-a5b5d5e5a8a7"
      },
      "execution_count": 3,
      "outputs": [
        {
          "output_type": "stream",
          "name": "stderr",
          "text": [
            "<ipython-input-3-ff9de136ada1>:14: UserWarning: No data for colormapping provided via 'c'. Parameters 'cmap' will be ignored\n",
            "  plt.scatter(cities_coord[1:, 0], cities_coord[1:, 1], s=plot_size*2, cmap='viridis');\n",
            "<ipython-input-3-ff9de136ada1>:15: UserWarning: No data for colormapping provided via 'c'. Parameters 'cmap' will be ignored\n",
            "  plt.scatter(cities_coord[0, 0], cities_coord[0, 1], s=plot_size*4, cmap='viridis');\n"
          ]
        },
        {
          "output_type": "display_data",
          "data": {
            "text/plain": [
              "<Figure size 1600x800 with 1 Axes>"
            ],
            "image/png": "[encoded data removed]"
          },
          "metadata": {}
        }
      ]
    },
    {
      "cell_type": "code",
      "source": [
        "from scipy.spatial import distance\n",
        "\n",
        "dist_matrix = distance.cdist(cities_coord, cities_coord, 'euclidean')"
      ],
      "metadata": {
        "id": "bBRp6e-vCMNA"
      },
      "execution_count": 4,
      "outputs": []
    },
    {
      "cell_type": "code",
      "source": [
        "! pip install deap\n",
        "from deap import base, creator, tools\n",
        "\n",
        "tb = base.Toolbox()\n",
        "\n",
        "creator.create('Fitness_Func', base.Fitness, weights=(-1.0,))\n",
        "creator.create('Individual', list, fitness=creator.Fitness_Func)"
      ],
      "metadata": {
        "colab": {
          "base_uri": "https://localhost:8080/"
        },
        "id": "Ln7-UaMVCMV3",
        "outputId": "2b3820a7-0cba-4945-b208-c09c4f370014"
      },
      "execution_count": 5,
      "outputs": [
        {
          "output_type": "stream",
          "name": "stdout",
          "text": [
            "Collecting deap\n",
            "  Downloading deap-1.4.1-cp310-cp310-manylinux_2_5_x86_64.manylinux1_x86_64.manylinux_2_17_x86_64.manylinux2014_x86_64.whl (135 kB)\n",
            "\u001b[?25l     \u001b[90m━━━━━━━━━━━━━━━━━━━━━━━━━━━━━━━━━━━━━━━━\u001b[0m \u001b[32m0.0/135.4 kB\u001b[0m \u001b[31m?\u001b[0m eta \u001b[36m-:--:--\u001b[0m\r\u001b[2K     \u001b[90m━━━━━━━━━━━━━━━━━━━━━━━━━━━━━━━━━━━━━━━━\u001b[0m \u001b[32m135.4/135.4 kB\u001b[0m \u001b[31m4.0 MB/s\u001b[0m eta \u001b[36m0:00:00\u001b[0m\n",
            "\u001b[?25hRequirement already satisfied: numpy in /usr/local/lib/python3.10/dist-packages (from deap) (1.25.2)\n",
            "Installing collected packages: deap\n",
            "Successfully installed deap-1.4.1\n"
          ]
        }
      ]
    },
    {
      "cell_type": "code",
      "source": [
        "import copy\n",
        "\n",
        "def chromo_create(_cities_names, _pickup_windows, _time_windows, _demands):\n",
        "    schedule = copy.deepcopy(_cities_names)\n",
        "    vehicle = list(np.random.randint(num_vehicles, size=(len(schedule))))\n",
        "    np.random.shuffle(schedule)\n",
        "    chromo = [schedule, vehicle]\n",
        "\n",
        "    return chromo"
      ],
      "metadata": {
        "id": "dTMR7lYZCMcN"
      },
      "execution_count": 6,
      "outputs": []
    },
    {
      "cell_type": "code",
      "source": [
        "def chromo_eval(_dist_matrix, _chromo, _pickup_windows, _time_windows, _demands):\n",
        "    route_set = [[] for _ in range(num_vehicles)]\n",
        "    for s, v in zip(_chromo[0], _chromo[1]):\n",
        "        # route_set[v].append(s)\n",
        "        route_set[v % num_vehicles].append(s)\n",
        "\n",
        "    dist = 0\n",
        "    for route in route_set:\n",
        "        dist += calc_route_cost(_dist_matrix, route)\n",
        "\n",
        "    penalty = 0\n",
        "    for route in route_set:\n",
        "        for i in range(len(route)):\n",
        "            city = route[i]\n",
        "            if i == 0:  # depot\n",
        "                pickup_time = 0\n",
        "            else:\n",
        "                pickup_time += _dist_matrix[route[i-1], city]\n",
        "            if pickup_time < _pickup_windows[city][0]:\n",
        "                penalty += (_pickup_windows[city][0] - pickup_time) * 1000  # Penalty for early pickup\n",
        "            if pickup_time > _pickup_windows[city][1]:\n",
        "                penalty += (pickup_time - _pickup_windows[city][1]) * 1000  # Penalty for late pickup\n",
        "            if i == len(route) - 1:  # Last city in the route\n",
        "                arrival_time = pickup_time\n",
        "            else:\n",
        "                arrival_time += _dist_matrix[city, route[i+1]]\n",
        "            if arrival_time < _time_windows[city][0]:\n",
        "                penalty += (_time_windows[city][0] - arrival_time) * 1000  # Penalty for early arrival\n",
        "            if arrival_time > _time_windows[city][1]:\n",
        "                penalty += (arrival_time - _time_windows[city][1]) * 1000  # Penalty for late arrival\n",
        "\n",
        "    total_demand = sum(_demands[city] for city in _chromo[0])\n",
        "    if total_demand > vehicle_payload:\n",
        "        penalty += (total_demand - vehicle_payload) * 10000  # Penalty for exceeding vehicle payload\n",
        "\n",
        "    return dist + penalty,\n",
        "\n",
        "\n",
        "\n",
        "def get_route(_chromo):\n",
        "    route_set = [[] for _ in range(num_vehicles)]\n",
        "    for s, v in zip(_chromo[0], _chromo[1]):\n",
        "        #route_set[v % num_vehicles].append(s)\n",
        "        route_set[v].append(s)\n",
        "    return route_set\n",
        "\n",
        "\n",
        "def calc_route_cost(_dist_matrix, _route):\n",
        "    if not _route:\n",
        "        return 0\n",
        "    dist = dist_matrix[_route[-1], 0] + dist_matrix[0, _route[0]]\n",
        "\n",
        "    for p in range(len(_route) - 1):\n",
        "        _i = _route[p]\n",
        "        _j = _route[p + 1]\n",
        "        dist += _dist_matrix[_i][_j]\n",
        "\n",
        "    return dist"
      ],
      "metadata": {
        "id": "QXolppgqCMgT"
      },
      "execution_count": 7,
      "outputs": []
    },
    {
      "cell_type": "code",
      "source": [
        "def crossover(_chromo1, _chromo2):\n",
        "    cuts = get_chromo_cut()\n",
        "    partial_crossover(_chromo1[0], _chromo2[0], cuts)\n",
        "\n",
        "    cuts1 = get_chromo_cut()\n",
        "    cuts2 = get_chromo_cut(cuts1[2])\n",
        "\n",
        "    swap_genes(_chromo1[1], _chromo2[1], cuts1, cuts2)\n",
        "\n",
        "\n",
        "def partial_crossover(_chromo1, _chromo2, cuts):\n",
        "\n",
        "    size = len(_chromo1)\n",
        "    p1, p2 = [0] * size, [0] * size\n",
        "\n",
        "    for i in range(size):\n",
        "        p1[_chromo1[i] - 1] = i\n",
        "        p2[_chromo2[i] - 1] = i\n",
        "\n",
        "    for i in range(cuts[0], cuts[1]):\n",
        "\n",
        "        temp1 = _chromo1[i] - 1\n",
        "        temp2 = _chromo2[i] - 1\n",
        "\n",
        "        _chromo1[i], _chromo1[p1[temp2]] = temp2 + 1, temp1 + 1\n",
        "        _chromo2[i], _chromo2[p2[temp1]] = temp1 + 1, temp2 + 1\n",
        "\n",
        "        p1[temp1], p1[temp2] = p1[temp2], p1[temp1]\n",
        "        p2[temp1], p2[temp2] = p2[temp2], p2[temp1]\n",
        "\n",
        "\n",
        "def get_chromo_cut(cut_range=None, mutation=False):\n",
        "\n",
        "    if mutation:\n",
        "        randrange = num_clients\n",
        "    else:\n",
        "        randrange = num_clients + 1\n",
        "\n",
        "    if cut_range is None:\n",
        "        cut1 = rand.randrange(randrange)\n",
        "        cut2 = rand.randrange(randrange)\n",
        "        if cut1 > cut2:\n",
        "            tmp = cut2\n",
        "            cut2 = cut1\n",
        "            cut1 = tmp\n",
        "        cut_range = cut2 - cut1\n",
        "    else:\n",
        "\n",
        "        cut1 = rand.randrange(num_clients + 1 - cut_range)\n",
        "        cut2 = cut1 + cut_range\n",
        "    return cut1, cut2, cut_range\n",
        "\n",
        "\n",
        "def swap_genes(chrom1, chrom2, cuts1, cuts2):\n",
        "    tmp = chrom1[cuts1[0]:cuts1[1]]\n",
        "    chrom1[cuts1[0]:cuts1[1]] = chrom2[cuts2[0]:cuts2[1]]\n",
        "    chrom2[cuts2[0]:cuts2[1]] = tmp"
      ],
      "metadata": {
        "id": "nrnLDg70CMkf"
      },
      "execution_count": 8,
      "outputs": []
    },
    {
      "cell_type": "code",
      "source": [
        "def mutation(_chromo):\n",
        "    if np.random.rand() < 0.5:\n",
        "        swap_gene(_chromo)\n",
        "    else:\n",
        "        shuffle_gene(_chromo)\n",
        "\n",
        "\n",
        "def swap_gene(_chromo):\n",
        "    cuts = get_chromo_cut(mutation=True)\n",
        "\n",
        "    if np.random.rand() < 0.5:\n",
        "        tmp = _chromo[0][cuts[0]]\n",
        "        _chromo[0][cuts[0]] = _chromo[0][cuts[1]]\n",
        "        _chromo[0][cuts[1]] = tmp\n",
        "    else:\n",
        "        tmp = _chromo[1][cuts[0]]\n",
        "        _chromo[1][cuts[0]] = _chromo[1][cuts[1]]\n",
        "        _chromo[1][cuts[1]] = tmp\n",
        "\n",
        "\n",
        "def shuffle_gene(_chromo):\n",
        "    cuts = get_chromo_cut(mutation=True)\n",
        "\n",
        "    if np.random.rand() < 0.5:\n",
        "        tmp = _chromo[0][cuts[0]:cuts[1]]\n",
        "        np.random.shuffle(tmp)\n",
        "        _chromo[0][cuts[0]:cuts[1]] = tmp\n",
        "    else:\n",
        "        tmp = _chromo[1][cuts[0]:cuts[1]]\n",
        "        np.random.shuffle(tmp)\n",
        "        _chromo[1][cuts[0]:cuts[1]] = tmp"
      ],
      "metadata": {
        "id": "BtKwQcCcCMoF"
      },
      "execution_count": 9,
      "outputs": []
    },
    {
      "cell_type": "code",
      "source": [
        "# Feasibility function incorporating pickup and time window constraints\n",
        "def feasibility(_chromo):\n",
        "    excess_payload = [vehicle_payload - sum(demands[_] for _ in _chromo[1]) for _ in range(num_vehicles)]\n",
        "    _vehicle_id = [i for i in range(num_vehicles)]\n",
        "\n",
        "    while any(_p < 0 for _p in excess_payload):\n",
        "        v_id = next(i for i, _p in enumerate(excess_payload) if _p < 0)\n",
        "        available_vehicles = [i for i, e in enumerate(excess_payload) if e > 0]\n",
        "\n",
        "        if len(available_vehicles) == 0:\n",
        "            raise ValueError('INFEASIBLE SOLUTION: No available vehicle to accept excess cargo. Increase the number of vehicles or the vehicle payload')\n",
        "\n",
        "        idx = [i for i, x in enumerate(_chromo[1]) if x == v_id]\n",
        "        to_vehicle = rand.choice(available_vehicles)\n",
        "        idx_to_move = rand.choice(idx)\n",
        "        _chromo[1][idx_to_move] = to_vehicle\n",
        "        excess_payload[v_id] += demands[_chromo[0][idx_to_move]] - demands[_chromo[0][idx_to_move - 1]]  # Update payload\n",
        "        excess_payload[to_vehicle] -= demands[_chromo[0][idx_to_move]] - demands[_chromo[0][idx_to_move - 1]]  # Update payload\n"
      ],
      "metadata": {
        "id": "90WLc-t9CMsG"
      },
      "execution_count": 10,
      "outputs": []
    },
    {
      "cell_type": "code",
      "source": [
        "# Update the toolbox registration\n",
        "tb.register('indexes', chromo_create, client_names, pickup_windows, time_windows, demands)\n",
        "tb.register('individual', tools.initIterate, creator.Individual, tb.indexes)\n",
        "tb.register('population', tools.initRepeat, list, tb.individual)\n",
        "tb.register('evaluate', chromo_eval, dist_matrix, pickup_windows, time_windows, demands)\n",
        "tb.register('select', tools.selTournament)\n",
        "tb.register('mate', crossover)\n",
        "tb.register('mutate', mutation)\n",
        "tb.register('feasibility', feasibility)"
      ],
      "metadata": {
        "id": "tu4_R15UCMu0"
      },
      "execution_count": 11,
      "outputs": []
    },
    {
      "cell_type": "code",
      "source": [
        "num_population = 200\n",
        "num_generations = 1000\n",
        "prob_crossover = .4\n",
        "prob_mutation = .6"
      ],
      "metadata": {
        "id": "gAubzHOCCMyx"
      },
      "execution_count": 12,
      "outputs": []
    },
    {
      "cell_type": "code",
      "source": [
        "population = tb.population(n=num_population)"
      ],
      "metadata": {
        "id": "LfHZY7wmCM2O"
      },
      "execution_count": 13,
      "outputs": []
    },
    {
      "cell_type": "code",
      "source": [
        "fitness_set = list(tb.map(tb.evaluate, population))\n",
        "for ind, fit in zip(population, fitness_set):\n",
        "    ind.fitness.values = fit"
      ],
      "metadata": {
        "id": "ia7WqDcaCM5B",
        "colab": {
          "base_uri": "https://localhost:8080/",
          "height": 321
        },
        "outputId": "0a441d1e-c84a-49e1-e66c-077378ac0677"
      },
      "execution_count": 14,
      "outputs": [
        {
          "output_type": "error",
          "ename": "IndexError",
          "evalue": "index 50 is out of bounds for axis 0 with size 21",
          "traceback": [
            "\u001b[0;31m---------------------------------------------------------------------------\u001b[0m",
            "\u001b[0;31mIndexError\u001b[0m                                Traceback (most recent call last)",
            "\u001b[0;32m<ipython-input-14-d8223598c7e6>\u001b[0m in \u001b[0;36m<cell line: 1>\u001b[0;34m()\u001b[0m\n\u001b[0;32m----> 1\u001b[0;31m \u001b[0mfitness_set\u001b[0m \u001b[0;34m=\u001b[0m \u001b[0mlist\u001b[0m\u001b[0;34m(\u001b[0m\u001b[0mtb\u001b[0m\u001b[0;34m.\u001b[0m\u001b[0mmap\u001b[0m\u001b[0;34m(\u001b[0m\u001b[0mtb\u001b[0m\u001b[0;34m.\u001b[0m\u001b[0mevaluate\u001b[0m\u001b[0;34m,\u001b[0m \u001b[0mpopulation\u001b[0m\u001b[0;34m)\u001b[0m\u001b[0;34m)\u001b[0m\u001b[0;34m\u001b[0m\u001b[0;34m\u001b[0m\u001b[0m\n\u001b[0m\u001b[1;32m      2\u001b[0m \u001b[0;32mfor\u001b[0m \u001b[0mind\u001b[0m\u001b[0;34m,\u001b[0m \u001b[0mfit\u001b[0m \u001b[0;32min\u001b[0m \u001b[0mzip\u001b[0m\u001b[0;34m(\u001b[0m\u001b[0mpopulation\u001b[0m\u001b[0;34m,\u001b[0m \u001b[0mfitness_set\u001b[0m\u001b[0;34m)\u001b[0m\u001b[0;34m:\u001b[0m\u001b[0;34m\u001b[0m\u001b[0;34m\u001b[0m\u001b[0m\n\u001b[1;32m      3\u001b[0m     \u001b[0mind\u001b[0m\u001b[0;34m.\u001b[0m\u001b[0mfitness\u001b[0m\u001b[0;34m.\u001b[0m\u001b[0mvalues\u001b[0m \u001b[0;34m=\u001b[0m \u001b[0mfit\u001b[0m\u001b[0;34m\u001b[0m\u001b[0;34m\u001b[0m\u001b[0m\n",
            "\u001b[0;32m<ipython-input-7-22a0135ade44>\u001b[0m in \u001b[0;36mchromo_eval\u001b[0;34m(_dist_matrix, _chromo, _pickup_windows, _time_windows, _demands)\u001b[0m\n\u001b[1;32m      7\u001b[0m     \u001b[0mdist\u001b[0m \u001b[0;34m=\u001b[0m \u001b[0;36m0\u001b[0m\u001b[0;34m\u001b[0m\u001b[0;34m\u001b[0m\u001b[0m\n\u001b[1;32m      8\u001b[0m     \u001b[0;32mfor\u001b[0m \u001b[0mroute\u001b[0m \u001b[0;32min\u001b[0m \u001b[0mroute_set\u001b[0m\u001b[0;34m:\u001b[0m\u001b[0;34m\u001b[0m\u001b[0;34m\u001b[0m\u001b[0m\n\u001b[0;32m----> 9\u001b[0;31m         \u001b[0mdist\u001b[0m \u001b[0;34m+=\u001b[0m \u001b[0mcalc_route_cost\u001b[0m\u001b[0;34m(\u001b[0m\u001b[0m_dist_matrix\u001b[0m\u001b[0;34m,\u001b[0m \u001b[0mroute\u001b[0m\u001b[0;34m)\u001b[0m\u001b[0;34m\u001b[0m\u001b[0;34m\u001b[0m\u001b[0m\n\u001b[0m\u001b[1;32m     10\u001b[0m \u001b[0;34m\u001b[0m\u001b[0m\n\u001b[1;32m     11\u001b[0m     \u001b[0mpenalty\u001b[0m \u001b[0;34m=\u001b[0m \u001b[0;36m0\u001b[0m\u001b[0;34m\u001b[0m\u001b[0;34m\u001b[0m\u001b[0m\n",
            "\u001b[0;32m<ipython-input-7-22a0135ade44>\u001b[0m in \u001b[0;36mcalc_route_cost\u001b[0;34m(_dist_matrix, _route)\u001b[0m\n\u001b[1;32m     49\u001b[0m     \u001b[0;32mif\u001b[0m \u001b[0;32mnot\u001b[0m \u001b[0m_route\u001b[0m\u001b[0;34m:\u001b[0m\u001b[0;34m\u001b[0m\u001b[0;34m\u001b[0m\u001b[0m\n\u001b[1;32m     50\u001b[0m         \u001b[0;32mreturn\u001b[0m \u001b[0;36m0\u001b[0m\u001b[0;34m\u001b[0m\u001b[0;34m\u001b[0m\u001b[0m\n\u001b[0;32m---> 51\u001b[0;31m     \u001b[0mdist\u001b[0m \u001b[0;34m=\u001b[0m \u001b[0mdist_matrix\u001b[0m\u001b[0;34m[\u001b[0m\u001b[0m_route\u001b[0m\u001b[0;34m[\u001b[0m\u001b[0;34m-\u001b[0m\u001b[0;36m1\u001b[0m\u001b[0;34m]\u001b[0m\u001b[0;34m,\u001b[0m \u001b[0;36m0\u001b[0m\u001b[0;34m]\u001b[0m \u001b[0;34m+\u001b[0m \u001b[0mdist_matrix\u001b[0m\u001b[0;34m[\u001b[0m\u001b[0;36m0\u001b[0m\u001b[0;34m,\u001b[0m \u001b[0m_route\u001b[0m\u001b[0;34m[\u001b[0m\u001b[0;36m0\u001b[0m\u001b[0;34m]\u001b[0m\u001b[0;34m]\u001b[0m\u001b[0;34m\u001b[0m\u001b[0;34m\u001b[0m\u001b[0m\n\u001b[0m\u001b[1;32m     52\u001b[0m \u001b[0;34m\u001b[0m\u001b[0m\n\u001b[1;32m     53\u001b[0m     \u001b[0;32mfor\u001b[0m \u001b[0mp\u001b[0m \u001b[0;32min\u001b[0m \u001b[0mrange\u001b[0m\u001b[0;34m(\u001b[0m\u001b[0mlen\u001b[0m\u001b[0;34m(\u001b[0m\u001b[0m_route\u001b[0m\u001b[0;34m)\u001b[0m \u001b[0;34m-\u001b[0m \u001b[0;36m1\u001b[0m\u001b[0;34m)\u001b[0m\u001b[0;34m:\u001b[0m\u001b[0;34m\u001b[0m\u001b[0;34m\u001b[0m\u001b[0m\n",
            "\u001b[0;31mIndexError\u001b[0m: index 50 is out of bounds for axis 0 with size 21"
          ]
        }
      ]
    },
    {
      "cell_type": "code",
      "source": [
        "best_fit_list = []\n",
        "best_sol_list = []\n",
        "\n",
        "best_fit = np.Inf\n",
        "\n",
        "for gen in range(0, num_generations):\n",
        "\n",
        "    if (gen % 50 == 0):\n",
        "        print(f'Generation: {gen:4} | Fitness: {best_fit:.2f}' )\n",
        "\n",
        "    offspring = tb.select(population, len(population), tournsize=3)\n",
        "    offspring = list(map(tb.clone, offspring))\n",
        "\n",
        "    for child1, child2 in zip(offspring[0::2], offspring[1::2]):\n",
        "        if np.random.random() < prob_crossover:\n",
        "            tb.mate(child1, child2)\n",
        "            del child1.fitness.values\n",
        "            del child2.fitness.values\n",
        "\n",
        "    for chromo in offspring:\n",
        "        if np.random.random() < prob_mutation:\n",
        "            tb.mutate(chromo)\n",
        "            del chromo.fitness.values\n",
        "\n",
        "    for chromo in offspring:\n",
        "        tb.feasibility(chromo)\n",
        "\n",
        "    invalid_ind = [ind for ind in offspring if not ind.fitness.valid]\n",
        "    fitness_set = map(tb.evaluate, invalid_ind)\n",
        "    for ind, fit in zip(invalid_ind, fitness_set):\n",
        "        ind.fitness.values = fit\n",
        "\n",
        "    population[:] = offspring\n",
        "\n",
        "    curr_best_sol = tools.selBest(population, 1)[0]\n",
        "    curr_best_fit = curr_best_sol.fitness.values[0]\n",
        "\n",
        "    if curr_best_fit < best_fit:\n",
        "        best_sol = curr_best_sol\n",
        "        best_fit = curr_best_fit\n",
        "\n",
        "    best_fit_list.append(best_fit)\n",
        "    best_sol_list.append(best_sol)"
      ],
      "metadata": {
        "id": "8WsVu90GCqfn"
      },
      "execution_count": null,
      "outputs": []
    },
    {
      "cell_type": "code",
      "source": [
        "plt.plot(best_fit_list)\n",
        "plt.show()"
      ],
      "metadata": {
        "id": "ZwSy-rLuCqi4"
      },
      "execution_count": null,
      "outputs": []
    },
    {
      "cell_type": "code",
      "source": [
        "best_routes = get_route(best_sol)\n",
        "print(best_routes)"
      ],
      "metadata": {
        "id": "xRWuy8ScCql7"
      },
      "execution_count": null,
      "outputs": []
    },
    {
      "cell_type": "code",
      "source": [
        "plt.scatter(cities_coord[1:, 0], cities_coord[1:, 1], s=plot_size*2, cmap='viridis');\n",
        "plt.scatter(cities_coord[0, 0], cities_coord[0, 1], s=plot_size*4, cmap='viridis');\n",
        "for i, txt in enumerate(all_names):\n",
        "    plt.annotate(txt, (cities_coord[i, 0]+1, cities_coord[i, 1]+1))\n",
        "\n",
        "for r in best_routes:\n",
        "    route = [0] + r + [0]\n",
        "    for p in range(len(route) - 1):\n",
        "        i = route[p]\n",
        "        j = route[p + 1]\n",
        "        colour = 'black'\n",
        "        plt.arrow(cities_coord[i][0],\n",
        "                  cities_coord[i][1],\n",
        "                  cities_coord[j][0] - cities_coord[i][0],\n",
        "                  cities_coord[j][1] - cities_coord[i][1],\n",
        "                  color=colour)\n",
        "\n",
        "plt.show()\n"
      ],
      "metadata": {
        "id": "oSD5zFpsCy2d"
      },
      "execution_count": null,
      "outputs": []
    },
    {
      "cell_type": "code",
      "source": [],
      "metadata": {
        "id": "0bmHKZ_Aac9o"
      },
      "execution_count": null,
      "outputs": []
    },
    {
      "cell_type": "code",
      "source": [],
      "metadata": {
        "id": "TbDIQ_EbadGB"
      },
      "execution_count": null,
      "outputs": []
    },
    {
      "cell_type": "markdown",
      "source": [],
      "metadata": {
        "id": "0mDM-Ggpa9i3"
      }
    }
  ]
}